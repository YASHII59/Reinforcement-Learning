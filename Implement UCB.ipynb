{
 "cells": [
  {
   "cell_type": "code",
   "execution_count": null,
   "metadata": {
    "id": "ZEf93ot2JKlk"
   },
   "outputs": [],
   "source": [
    "import numpy as np\n",
    "import matplotlib.pyplot as plt\n",
    "import pandas as pd"
   ]
  },
  {
   "cell_type": "code",
   "execution_count": null,
   "metadata": {
    "id": "v_bIP9BNJ-9t"
   },
   "outputs": [],
   "source": [
    "dataset = pd.read_csv('/Ads_Optimisation.csv')"
   ]
  },
  {
   "cell_type": "code",
   "execution_count": null,
   "metadata": {
    "id": "smlkdec1KYBb"
   },
   "outputs": [],
   "source": [
    "import random\n",
    "N= 10000\n",
    "d =10\n",
    "ads_selected =[]\n",
    "total_reward =0\n",
    "for n in range(0,N):\n",
    "  ad= random.randrange(d)\n",
    "  ads_selected.append(ad)\n",
    "  reward = dataset.values[n,ad]\n",
    "  total_reward = total_reward + reward"
   ]
  },
  {
   "cell_type": "code",
   "execution_count": null,
   "metadata": {
    "colab": {
     "base_uri": "https://localhost:8080/"
    },
    "id": "rsFfvf5RNTHG",
    "outputId": "5c2c3301-252a-46fc-8b87-608ecae4645a"
   },
   "outputs": [],
   "source": [
    "pd.Series(ads_selected).tail(1000).value_counts(normalize=True)"
   ]
  },
  {
   "cell_type": "code",
   "execution_count": null,
   "metadata": {
    "colab": {
     "base_uri": "https://localhost:8080/"
    },
    "id": "yw92ROUDOBfN",
    "outputId": "d7b259a9-6747-4f86-e086-6bf8ec891802"
   },
   "outputs": [],
   "source": [
    "pd.Series(ads_selected).tail(1000).value_counts(normalize=False)"
   ]
  },
  {
   "cell_type": "code",
   "execution_count": null,
   "metadata": {
    "colab": {
     "base_uri": "https://localhost:8080/"
    },
    "id": "K7c3YnbQQ8p6",
    "outputId": "f1e24d78-4d70-4290-85d6-50be5e21737e"
   },
   "outputs": [],
   "source": [
    "pd.Series(ads_selected).head(1000).value_counts(normalize=False)"
   ]
  },
  {
   "cell_type": "code",
   "execution_count": null,
   "metadata": {
    "id": "5qxnzEh4RRIy"
   },
   "outputs": [],
   "source": [
    "import math\n",
    "N = 10000\n",
    "d = 10\n",
    "ads_selected =[]\n",
    "numbers_of_selections =[0] * d\n",
    "sums_of_reward = [0] * d\n",
    "total_reward = 0"
   ]
  },
  {
   "cell_type": "code",
   "execution_count": null,
   "metadata": {
    "id": "66l1oIJLSc3m"
   },
   "outputs": [],
   "source": [
    "for n in range(0,N):\n",
    "  ad=0\n",
    "  max_upper_bound = 0\n",
    "  for i in range(0,d):\n",
    "    if (numbers_of_selections[i] > 0):\n",
    "      average_reward = sums_of_reward[i] / numbers_of_selections[i]\n",
    "      delta_i = math.sqrt(2 * math.log(n+1) / numbers_of_selections[i])\n",
    "      upper_bound =average_reward + delta_i\n",
    "    else:\n",
    "       upper_bound = 1e400\n",
    "       if upper_bound > max_upper_bound:\n",
    "         max_upper_bound = upper_bound\n",
    "         ad = i\n",
    "    ads_selected.append(ad)\n",
    "    numbers_of_selections[ad] += 1\n",
    "    reward = dataset.values[n, ad]\n",
    "    sums_of_reward[ad] += reward\n",
    "    total_reward += reward"
   ]
  },
  {
   "cell_type": "code",
   "execution_count": null,
   "metadata": {
    "colab": {
     "base_uri": "https://localhost:8080/"
    },
    "id": "WFFXQdFjUlTt",
    "outputId": "606de4f3-d602-47e2-b404-7b6f19882a02"
   },
   "outputs": [],
   "source": [
    "pd.Series(ads_selected).tail(1500).value_counts(normalize=True)"
   ]
  },
  {
   "cell_type": "code",
   "execution_count": null,
   "metadata": {
    "colab": {
     "base_uri": "https://localhost:8080/"
    },
    "id": "6LkOAqaTWNh7",
    "outputId": "aa79973f-6fe4-4924-84a8-a40141cc07d9"
   },
   "outputs": [],
   "source": [
    "pd.Series(ads_selected).tail(10000).value_counts(normalize=True)"
   ]
  },
  {
   "cell_type": "code",
   "execution_count": null,
   "metadata": {
    "colab": {
     "base_uri": "https://localhost:8080/"
    },
    "id": "G3-6LD9lyTwX",
    "outputId": "32952c54-0a98-42dd-b19e-25edbd71efea"
   },
   "outputs": [],
   "source": [
    "import math\n",
    "N = 10000\n",
    "d = 10\n",
    "ads_selected =[]\n",
    "numbers_of_selections =[0] * d\n",
    "sums_of_reward = [0] * d\n",
    "total_reward = 0\n",
    "for n in range(4000):\n",
    "  ad=0\n",
    "  max_upper_bound = 0\n",
    "  for i in range(0,d):\n",
    "    if (numbers_of_selections[i] > 0):\n",
    "      average_reward = sums_of_reward[i] / numbers_of_selections[i]\n",
    "      delta_i = math.sqrt(2 * math.log(n+1) / numbers_of_selections[i])\n",
    "      upper_bound =average_reward + delta_i\n",
    "    else:\n",
    "       upper_bound = 1e400\n",
    "       if upper_bound > max_upper_bound:\n",
    "         max_upper_bound = upper_bound\n",
    "         ad = i\n",
    "    ads_selected.append(ad)\n",
    "    numbers_of_selections[ad] += 1\n",
    "    reward = dataset.values[n, ad]\n",
    "    sums_of_reward[ad] += reward\n",
    "    total_reward += reward\n",
    "print(total_reward)         "
   ]
  },
  {
   "cell_type": "code",
   "execution_count": null,
   "metadata": {
    "colab": {
     "base_uri": "https://localhost:8080/"
    },
    "id": "KmtQfnUbzaej",
    "outputId": "37caff34-4bc1-4a23-9e96-c22af79bd063"
   },
   "outputs": [],
   "source": [
    "pd.Series(ads_selected).tail(1500).value_counts(normalize=True)"
   ]
  }
 ],
 "metadata": {
  "colab": {
   "authorship_tag": "ABX9TyPxMekJQv6WdX3ZHFwW5ou5",
   "include_colab_link": true,
   "name": "UCB_Prac-3.ipynb",
   "provenance": []
  },
  "kernelspec": {
   "display_name": "Python 3 (ipykernel)",
   "language": "python",
   "name": "python3"
  },
  "language_info": {
   "codemirror_mode": {
    "name": "ipython",
    "version": 3
   },
   "file_extension": ".py",
   "mimetype": "text/x-python",
   "name": "python",
   "nbconvert_exporter": "python",
   "pygments_lexer": "ipython3",
   "version": "3.9.12"
  }
 },
 "nbformat": 4,
 "nbformat_minor": 1
}
