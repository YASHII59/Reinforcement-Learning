{
 "cells": [
  {
   "cell_type": "code",
   "execution_count": 1,
   "metadata": {
    "id": "BZOxIS9CslTY"
   },
   "outputs": [],
   "source": [
    "import numpy as np\n",
    "import pandas as pd\n"
   ]
  },
  {
   "cell_type": "code",
   "execution_count": 2,
   "metadata": {
    "id": "mHYrBA_8uYDL"
   },
   "outputs": [],
   "source": [
    "np.random.seed(1)"
   ]
  },
  {
   "cell_type": "markdown",
   "metadata": {
    "id": "q6r5_VsnufUc"
   },
   "source": [
    "1000 Random integers between 0 and 50"
   ]
  },
  {
   "cell_type": "code",
   "execution_count": 20,
   "metadata": {
    "id": "jaoRDfYTuc1W"
   },
   "outputs": [],
   "source": [
    "x=np.random.randint(0,50,500)"
   ]
  },
  {
   "cell_type": "code",
   "execution_count": 21,
   "metadata": {
    "colab": {
     "base_uri": "https://localhost:8080/"
    },
    "id": "BNcsMsX1utaF",
    "outputId": "4be8ffcf-ae7e-404f-fc53-daa0c65bd80d"
   },
   "outputs": [
    {
     "data": {
      "text/plain": [
       "array([17, 12, 11,  5,  9, 43,  0, 21, 24, 17, 40, 26, 28, 23,  1, 13, 33,\n",
       "       16, 15, 47, 13,  9, 43, 37, 24, 25,  4, 15, 30, 25, 32, 47,  7, 46,\n",
       "       11, 48,  3, 16,  4, 18, 33, 48, 26, 26, 24, 32, 42, 30,  2, 15, 25,\n",
       "       10, 28, 14, 32,  6, 47,  7, 31, 43, 35, 45, 28, 28, 27, 15,  9, 49,\n",
       "       30, 31,  6, 44, 36, 49, 41, 21,  2, 37, 33,  7, 27, 31, 26, 49, 20,\n",
       "       30,  5,  1, 26,  7, 48,  3, 29, 21, 24, 27, 34, 47, 12, 16,  2,  0,\n",
       "        7, 31, 42, 28, 28, 40, 31, 10, 34, 42, 40, 25, 44,  9, 12,  1, 12,\n",
       "       46, 20, 44, 39, 25,  3, 36,  0, 41, 31, 46, 18, 45, 22, 29, 10, 33,\n",
       "       37, 31,  3, 20, 34,  2, 31, 24, 10, 39,  8, 23,  6, 39, 33, 19, 22,\n",
       "       16, 15, 49, 17,  5,  5,  1, 13, 32,  5,  9, 16, 25, 21, 25, 49, 46,\n",
       "       30, 25, 32, 37, 38,  3,  2, 37,  5,  6, 22, 25, 43, 24, 30,  2, 48,\n",
       "       35, 23, 22, 37, 16, 30, 27, 43, 10, 49, 18, 44, 36, 36,  7, 12, 42,\n",
       "       43, 15, 10, 46, 31, 37, 46, 48, 22, 43, 10, 21, 27, 23, 44, 24, 40,\n",
       "       26, 45, 21, 26, 42, 39, 32, 17, 11, 45, 17, 43, 35, 42, 44,  9, 23,\n",
       "       32, 40,  6,  0,  3, 15, 29, 32, 34, 27, 12, 19, 29, 26,  5, 41, 34,\n",
       "       21, 44, 31, 27,  6, 25, 17, 48,  1, 19, 26, 32,  1, 20, 15, 14, 18,\n",
       "       22, 35, 11, 35, 31, 43, 31, 34, 11, 32,  1, 49, 21, 40,  0, 32, 20,\n",
       "       23,  6, 24, 41, 40, 38, 26,  1,  0, 36, 36, 41, 42, 24, 16,  4, 21,\n",
       "       28, 23, 27, 49,  5,  0, 12, 45, 19, 47, 27, 12, 23, 16,  5, 46, 32,\n",
       "       25, 32, 30, 26, 14,  6, 42, 12, 32, 25,  7, 10, 40, 45, 26, 34, 14,\n",
       "       35,  1, 29, 27, 31, 41, 41,  3,  1,  5,  6,  4,  6, 45, 47, 49, 36,\n",
       "       40, 36, 37, 24, 48, 13, 23, 41, 35, 18,  5, 14, 40, 23,  2, 22,  8,\n",
       "       27, 10, 41, 20, 44,  6, 25, 30, 24, 23, 42, 12, 36,  5, 18, 44, 11,\n",
       "       46, 14, 43, 11,  0, 23, 29,  2,  7,  0, 17, 45, 10, 41, 38, 45,  9,\n",
       "       12, 42, 41, 40, 23,  6, 11, 23, 26,  1, 10,  8,  0,  5, 11, 48, 32,\n",
       "       22, 13, 28, 13, 42, 33, 29, 43, 47, 21, 32, 37,  7, 27, 42,  9, 17,\n",
       "       21, 21, 28, 30, 37, 19,  7,  2, 43, 16, 48, 28, 34,  6, 10,  8,  4,\n",
       "       43, 10, 31, 21, 10,  0, 39, 44,  2, 43, 42, 48,  4, 36, 38, 26, 31,\n",
       "        5, 36, 37, 36, 43,  1,  3, 25, 27, 49,  2, 36, 39, 46, 26, 13, 44,\n",
       "       14, 48, 19, 13, 46, 29, 48])"
      ]
     },
     "execution_count": 21,
     "metadata": {},
     "output_type": "execute_result"
    }
   ],
   "source": [
    "x"
   ]
  },
  {
   "cell_type": "code",
   "execution_count": 22,
   "metadata": {
    "id": "5opYJCfmvC4Z"
   },
   "outputs": [],
   "source": [
    "y = x + np.random.normal(0,10,500)\n"
   ]
  },
  {
   "cell_type": "code",
   "execution_count": 23,
   "metadata": {
    "colab": {
     "base_uri": "https://localhost:8080/"
    },
    "id": "bTctB0uGv0-k",
    "outputId": "99b966b4-5335-49af-a509-e4f46a5930d7"
   },
   "outputs": [
    {
     "data": {
      "text/plain": [
       "array([ 26.64322934,  32.67436726,  14.44737788,  11.74894998,\n",
       "        -3.54880245,  36.79821436, -14.36459046,  27.51775222,\n",
       "        18.16621554,   3.82353822,  40.24184914,  30.97383509,\n",
       "        39.84546218,  31.86816898,   1.39496482,  16.60084514,\n",
       "        43.57466732,  27.56090113,  26.97472748,  52.20972982,\n",
       "        10.48075121, -12.47289117,  54.13446949,  63.39249158,\n",
       "        28.79613591,  22.20562427, -28.21723972,  12.21707682,\n",
       "        34.04726656,   8.14871426,  25.76511223,  34.34186237,\n",
       "        11.9196088 ,  36.11610849,   8.64495685,  41.71333291,\n",
       "        27.83252093,  31.55492779,  18.26236404,   4.86932221,\n",
       "        38.14334307,  40.3054817 ,  22.44861565,  31.62209566,\n",
       "        40.03300735,  55.06230497,  32.87114469,  45.42246446,\n",
       "         4.90450796,  26.67534558,  22.81944443,   8.53239332,\n",
       "        34.45867093,  18.50941609,  54.55861197,  14.20470451,\n",
       "        54.38667104,   6.54405104,  46.3661488 ,  57.40246434,\n",
       "        31.70839124,  55.13584097,  28.66018683,  26.80169678,\n",
       "        27.71555884,  27.17228631,  -0.27520495,  48.25231286,\n",
       "        20.33195254,  25.22473048,  -0.74056574,  48.91053938,\n",
       "        30.04535906,  67.53074721,  34.87630831,  32.10504632,\n",
       "        -4.35605779,  36.68079118,  40.3369265 ,  -3.22196188,\n",
       "        23.05075993,  25.73946777,  21.75015721,  50.9178655 ,\n",
       "        27.80203486,  44.03804209,  -8.24786001,  12.28390198,\n",
       "        17.85311363,   7.74353696,  38.99819073,  -3.52817969,\n",
       "        50.72575509,  22.61977927,  14.19747321,  30.07929933,\n",
       "        33.88535072,  33.63283074,   0.63140683,  19.07982942,\n",
       "         2.87266429,   8.32853232,   5.30122359,  36.39737028,\n",
       "        54.33798386,  37.57872374,  37.99403644,  50.98066907,\n",
       "        37.06609335,  16.28385274,  33.3519252 ,  52.7360823 ,\n",
       "        31.32579009,  32.13573054,  37.65180598,  28.26137513,\n",
       "        13.15929646,  -8.67721569,   3.90788351,  50.01352922,\n",
       "        36.55819678,  46.65889661,  41.27330726,  21.9111379 ,\n",
       "         0.38605852,  36.23581984,  12.93912965,  44.78392471,\n",
       "        26.1595237 ,  45.09973513,  29.42554089,  37.53551276,\n",
       "        32.2239602 ,  32.89331293,  25.66245791,  26.78759783,\n",
       "        43.3432377 ,  32.29279861,  24.21384071,  10.41770417,\n",
       "        33.15615197,   0.69312511,  34.21386465,  19.44457437,\n",
       "        14.91320357,  48.21903246,  12.17638636,  15.79052562,\n",
       "        -3.34327201,  40.28083601,  21.61488653,  17.74468605,\n",
       "        38.7131175 ,   9.99406788,   4.75785382,  62.23976011,\n",
       "        10.88885395,   2.81951481,   3.14848447,  -5.8563223 ,\n",
       "         7.72713049,  42.50342874,  28.61206028,  10.16986584,\n",
       "         5.59747765,  27.423257  ,  25.37764479,  48.38269281,\n",
       "        57.00551094,  57.45965889,  36.0188263 ,  24.72234266,\n",
       "        40.87457038,  26.92741128,  43.96586474,  -7.87877487,\n",
       "        -5.73969875,  30.40032048,   6.57927307, -17.1502687 ,\n",
       "        10.36720547,  36.05366896,  56.61685747,  17.85960241,\n",
       "        25.21875093,   0.13694594,  24.88262043,  28.91940535,\n",
       "        16.49114642,  24.81840284,  45.05591079,  14.53782625,\n",
       "        33.14573618,  22.80252458,  42.89322987,  13.95546184,\n",
       "        35.88008434,  17.59150895,  29.94497419,  41.95512858,\n",
       "        33.83771977,  25.07598771,   9.7211077 ,  26.48990198,\n",
       "        40.66793302,   6.60999905,   8.50009218,  46.72448203,\n",
       "        19.6344773 ,  33.72897918,  51.58932   ,  46.13391755,\n",
       "        17.62113587,  64.72639655,  18.73626265,  18.84911768,\n",
       "        21.88210823,  31.84354988,  43.24892522,  30.97888951,\n",
       "        43.64227021,  13.87094585,  38.73828236,  39.39880634,\n",
       "        40.54720038,  32.98215631,  47.64475482,  20.85426372,\n",
       "        -1.34630375,  19.33076659,  42.35719458,  18.02155772,\n",
       "        65.09303624,  46.28353377,  32.86146455,  30.47005639,\n",
       "        12.23917171,  32.85063488,  24.09648203,  42.79732885,\n",
       "        13.91789824,  -9.46340166,  -1.8619831 ,  33.1688425 ,\n",
       "        32.8344515 ,  23.18311069,  50.25583276,  32.52150709,\n",
       "        -0.43708211,  22.20328442,  35.23613295,  41.29458338,\n",
       "        22.18518255,  44.49456275,  29.27798478,  18.95398045,\n",
       "        41.39998429,  24.78514105,  34.60180624,  -2.2173937 ,\n",
       "        16.85507135,  19.16702623,  52.35242349,   3.29968727,\n",
       "        24.22317489,  35.77614528,  26.69784891,   5.1923169 ,\n",
       "        11.95049505,  16.18937127,  -3.11534891,  39.12902335,\n",
       "        25.8644137 ,  19.66460775,  17.72541398,  37.51576975,\n",
       "        19.84906069,  41.2206605 ,  44.40039847,  29.87248373,\n",
       "         5.35412334,  26.94309474,   5.73222351,  50.53601636,\n",
       "        37.60504726,  32.3468657 , -17.11229211,  21.05846388,\n",
       "        18.51236462,  12.85298676,   2.0684513 ,  35.0940875 ,\n",
       "        50.27550458,  32.95616331,  28.30830355,  16.2236769 ,\n",
       "        -6.50559398, -16.93440396,  30.37408688,  47.61020626,\n",
       "        42.72045526,  39.64685886,  21.31145333,  12.70222707,\n",
       "         0.2575303 ,  16.15562503,  35.81800732,  13.86120433,\n",
       "        29.78518607,  42.29948166,   7.32452069,   7.3479649 ,\n",
       "        21.59667647,  40.38852359,  18.8437615 ,  56.51935383,\n",
       "        46.77596878,  27.56382261,  19.7190606 ,   6.50805395,\n",
       "         5.86171261,  59.69687312,  33.57237914,  30.96789759,\n",
       "        24.85918115,  37.91970064,  39.29607867,  16.53850322,\n",
       "         7.37424387,  30.115759  ,  -0.07851688,  36.25724563,\n",
       "        19.04783134,   8.8842466 ,   3.16872609,  50.97312209,\n",
       "        21.28595552,  22.53107642,  30.33790435,  21.02014141,\n",
       "        36.06639988, -11.3451577 ,  32.77846402,  17.8700528 ,\n",
       "        27.97504853,  38.9977324 ,  38.12576964,  -7.57920349,\n",
       "        -9.86029817,   0.93702893,  -0.52072073,   7.81593408,\n",
       "        12.99885664,  49.89642569,  72.2449026 ,  47.37967012,\n",
       "        33.6633536 ,  59.78993288,  57.49160598,  55.69687035,\n",
       "        16.19780595,  52.85101547,  13.07088226,  18.79028038,\n",
       "        39.67884307,  59.35688556,  30.56562716,  17.82985889,\n",
       "        14.96379715,  50.15487085,  15.23558105,  18.94959281,\n",
       "        27.27873959,  17.3182483 ,  22.84273154,  -4.63130741,\n",
       "        29.03105496,  32.50980245,  57.25505636,   6.81541292,\n",
       "        28.48720649,  36.5583993 ,  18.93498619,  31.87364273,\n",
       "        41.36772995,   6.63223206,  35.62808675, -11.16222248,\n",
       "         5.34099487,  49.11124795,   7.34275379,  51.60969301,\n",
       "        21.52696674,  47.56471313,  21.48350794,  14.69919955,\n",
       "        19.07734256,  54.30037712,   1.20531688,   6.76856361,\n",
       "        -6.16377965,  31.41585491,  54.17807285,   2.70262661,\n",
       "        47.65834334,  40.60398777,  42.00505057,  -0.48029223,\n",
       "        -6.60270882,  51.89378585,  38.73206795,  18.34143043,\n",
       "        18.20382974,  23.95210918,  -5.11847331,   7.75935241,\n",
       "        22.67967252,  -8.10717361,   3.65112403,  -2.21113228,\n",
       "        10.94921883,   6.88528956,  17.24119156,  41.04462432,\n",
       "        31.91435528,  17.91663018,   5.66236363,  26.64048957,\n",
       "         7.679432  ,  26.9747399 ,  23.05290502,  26.90067998,\n",
       "        40.58614263,  45.50475265,   8.80651075,  12.15792519,\n",
       "        53.03678123,   8.48443678,  25.43899404,  56.68960114,\n",
       "        -4.2942315 ,   3.30762325,  28.84782067,  25.79142808,\n",
       "        22.28815117,  33.27633815,  39.44729186,  44.26891354,\n",
       "         6.1630813 ,   2.18079458,  41.29716469,  15.19597994,\n",
       "        61.80350914,  21.91949656,  41.52816135,  -8.77723595,\n",
       "        -3.58508991,  14.97025407,  -7.56163837,  42.19058968,\n",
       "         8.12100798,  29.38877185,  10.75779173,  24.90233733,\n",
       "        -5.46305393,  31.1468317 ,  50.78793576,   6.42433233,\n",
       "        34.52612076,  29.18461078,  59.98532543,   0.68938229,\n",
       "        28.18158313,  44.72446287,  41.49328003,  33.48916182,\n",
       "        32.25646697,  25.55982835,  43.27948087,  24.67008167,\n",
       "        40.99784437,  -5.19649218,  19.29880584,  10.07702924,\n",
       "        40.89280962,  51.02973637,  16.84863116,  42.40106504,\n",
       "        32.92875102,  27.78318151,  28.51380334,   7.42494656,\n",
       "        43.43446663,  26.04153753,  47.86424292,   8.74597074,\n",
       "         9.33984721,  46.95691782,  26.93890444,  29.49611167])"
      ]
     },
     "execution_count": 23,
     "metadata": {},
     "output_type": "execute_result"
    }
   ],
   "source": [
    "y"
   ]
  },
  {
   "cell_type": "code",
   "execution_count": 24,
   "metadata": {
    "colab": {
     "base_uri": "https://localhost:8080/"
    },
    "id": "pZ4eDOS2vKmK",
    "outputId": "c2053789-71f2-4285-a928-b1c73635f0e7"
   },
   "outputs": [
    {
     "data": {
      "text/plain": [
       "array([[1.        , 0.83048549],\n",
       "       [0.83048549, 1.        ]])"
      ]
     },
     "execution_count": 24,
     "metadata": {},
     "output_type": "execute_result"
    }
   ],
   "source": [
    "np.corrcoef(x,y)"
   ]
  },
  {
   "cell_type": "code",
   "execution_count": 25,
   "metadata": {
    "colab": {
     "base_uri": "https://localhost:8080/",
     "height": 265
    },
    "id": "dYjNNfT6wEBL",
    "outputId": "161f4fa8-ff38-47b6-c258-4ef74178aea8"
   },
   "outputs": [
    {
     "data": {
      "image/png": "[encoded data removed]",
      "text/plain": [
       "<Figure size 432x288 with 1 Axes>"
      ]
     },
     "metadata": {},
     "output_type": "display_data"
    }
   ],
   "source": [
    "import matplotlib\n",
    "import matplotlib .pyplot as plt\n",
    "matplotlib.style.use('ggplot')\n",
    "\n",
    "plt.scatter(x,y)\n",
    "plt.show()"
   ]
  },
  {
   "cell_type": "markdown",
   "metadata": {
    "id": "XvuTfkKyuetj"
   },
   "source": []
  },
  {
   "cell_type": "markdown",
   "metadata": {
    "id": "bpxKlRAHx2_M"
   },
   "source": [
    "Negative Coorelation with some noise"
   ]
  },
  {
   "cell_type": "code",
   "execution_count": 29,
   "metadata": {
    "id": "wk077Xybxms4"
   },
   "outputs": [],
   "source": [
    "x=np.random.randint(0,50,1000)"
   ]
  },
  {
   "cell_type": "code",
   "execution_count": 30,
   "metadata": {
    "id": "hL5tRGY4yc0m"
   },
   "outputs": [],
   "source": [
    "y = 100 - x +np.random.normal(0,5,1000)"
   ]
  },
  {
   "cell_type": "code",
   "execution_count": 31,
   "metadata": {
    "colab": {
     "base_uri": "https://localhost:8080/"
    },
    "id": "Um2aTFEkyyaS",
    "outputId": "e48544b5-145e-4c9d-ec4b-d92fb0c1fc44"
   },
   "outputs": [
    {
     "data": {
      "text/plain": [
       "array([[ 1.        , -0.94610899],\n",
       "       [-0.94610899,  1.        ]])"
      ]
     },
     "execution_count": 31,
     "metadata": {},
     "output_type": "execute_result"
    }
   ],
   "source": [
    "np.corrcoef(x,y)"
   ]
  },
  {
   "cell_type": "code",
   "execution_count": 32,
   "metadata": {
    "colab": {
     "base_uri": "https://localhost:8080/",
     "height": 265
    },
    "id": "zbVdsLHRzFN5",
    "outputId": "8b03a0b7-4be9-4bf9-f1e7-ff3e20fa0ee8"
   },
   "outputs": [
    {
     "data": {
      "image/png": "[encoded data removed]",
      "text/plain": [
       "<Figure size 432x288 with 1 Axes>"
      ]
     },
     "metadata": {},
     "output_type": "display_data"
    }
   ],
   "source": [
    "import matplotlib\n",
    "import matplotlib .pyplot as plt\n",
    "matplotlib.style.use('ggplot')\n",
    "\n",
    "plt.scatter(x,y)\n",
    "plt.show()"
   ]
  },
  {
   "cell_type": "code",
   "execution_count": 34,
   "metadata": {
    "id": "GAaO0O2QzK-l"
   },
   "outputs": [],
   "source": [
    "y = np.random.randint(0,50,500)"
   ]
  },
  {
   "cell_type": "code",
   "execution_count": 35,
   "metadata": {
    "id": "F1Lallijzhp4"
   },
   "outputs": [],
   "source": [
    "x = np.random.randint(0,50,500)"
   ]
  },
  {
   "cell_type": "code",
   "execution_count": 36,
   "metadata": {
    "colab": {
     "base_uri": "https://localhost:8080/"
    },
    "id": "PkRVkKTzzmJs",
    "outputId": "c9dc0134-029d-4e76-b044-ba383a0a2697"
   },
   "outputs": [
    {
     "data": {
      "text/plain": [
       "array([[1.        , 0.04048638],\n",
       "       [0.04048638, 1.        ]])"
      ]
     },
     "execution_count": 36,
     "metadata": {},
     "output_type": "execute_result"
    }
   ],
   "source": [
    "np.corrcoef(x,y)"
   ]
  },
  {
   "cell_type": "code",
   "execution_count": 37,
   "metadata": {
    "colab": {
     "base_uri": "https://localhost:8080/",
     "height": 265
    },
    "id": "0LvPDXt3zs6k",
    "outputId": "d902a005-0197-449d-c71b-352f5607f415"
   },
   "outputs": [
    {
     "data": {
      "image/png": "[encoded data removed]",
      "text/plain": [
       "<Figure size 432x288 with 1 Axes>"
      ]
     },
     "metadata": {},
     "output_type": "display_data"
    }
   ],
   "source": [
    "import matplotlib\n",
    "import matplotlib .pyplot as plt\n",
    "matplotlib.style.use('ggplot')\n",
    "\n",
    "plt.scatter(x,y)\n",
    "plt.show()"
   ]
  },
  {
   "cell_type": "code",
   "execution_count": 44,
   "metadata": {
    "colab": {
     "base_uri": "https://localhost:8080/",
     "height": 175
    },
    "id": "e-NyzDHvz-lJ",
    "outputId": "9828fbd8-7306-44e3-cb72-24219e0230b8"
   },
   "outputs": [
    {
     "data": {
      "text/html": [
       "\n",
       "  <div id=\"df-f58cd746-01bb-4e1a-b062-9d9171bd79cc\">\n",
       "    <div class=\"colab-df-container\">\n",
       "      <div>\n",
       "<style scoped>\n",
       "    .dataframe tbody tr th:only-of-type {\n",
       "        vertical-align: middle;\n",
       "    }\n",
       "\n",
       "    .dataframe tbody tr th {\n",
       "        vertical-align: top;\n",
       "    }\n",
       "\n",
       "    .dataframe thead th {\n",
       "        text-align: right;\n",
       "    }\n",
       "</style>\n",
       "<table border=\"1\" class=\"dataframe\">\n",
       "  <thead>\n",
       "    <tr style=\"text-align: right;\">\n",
       "      <th></th>\n",
       "      <th>a</th>\n",
       "      <th>b</th>\n",
       "      <th>c</th>\n",
       "      <th>d</th>\n",
       "    </tr>\n",
       "  </thead>\n",
       "  <tbody>\n",
       "    <tr>\n",
       "      <th>a</th>\n",
       "      <td>1.000000</td>\n",
       "      <td>0.824820</td>\n",
       "      <td>-0.261096</td>\n",
       "      <td>0.025927</td>\n",
       "    </tr>\n",
       "    <tr>\n",
       "      <th>b</th>\n",
       "      <td>0.824820</td>\n",
       "      <td>1.000000</td>\n",
       "      <td>-0.216757</td>\n",
       "      <td>-0.008246</td>\n",
       "    </tr>\n",
       "    <tr>\n",
       "      <th>c</th>\n",
       "      <td>-0.261096</td>\n",
       "      <td>-0.216757</td>\n",
       "      <td>1.000000</td>\n",
       "      <td>-0.058478</td>\n",
       "    </tr>\n",
       "    <tr>\n",
       "      <th>d</th>\n",
       "      <td>0.025927</td>\n",
       "      <td>-0.008246</td>\n",
       "      <td>-0.058478</td>\n",
       "      <td>1.000000</td>\n",
       "    </tr>\n",
       "  </tbody>\n",
       "</table>\n",
       "</div>\n",
       "      <button class=\"colab-df-convert\" onclick=\"convertToInteractive('df-f58cd746-01bb-4e1a-b062-9d9171bd79cc')\"\n",
       "              title=\"Convert this dataframe to an interactive table.\"\n",
       "              style=\"display:none;\">\n",
       "        \n",
       "  <svg xmlns=\"http://www.w3.org/2000/svg\" height=\"24px\"viewBox=\"0 0 24 24\"\n",
       "       width=\"24px\">\n",
       "    <path d=\"M0 0h24v24H0V0z\" fill=\"none\"/>\n",
       "    <path d=\"M18.56 5.44l.94 2.06.94-2.06 2.06-.94-2.06-.94-.94-2.06-.94 2.06-2.06.94zm-11 1L8.5 8.5l.94-2.06 2.06-.94-2.06-.94L8.5 2.5l-.94 2.06-2.06.94zm10 10l.94 2.06.94-2.06 2.06-.94-2.06-.94-.94-2.06-.94 2.06-2.06.94z\"/><path d=\"M17.41 7.96l-1.37-1.37c-.4-.4-.92-.59-1.43-.59-.52 0-1.04.2-1.43.59L10.3 9.45l-7.72 7.72c-.78.78-.78 2.05 0 2.83L4 21.41c.39.39.9.59 1.41.59.51 0 1.02-.2 1.41-.59l7.78-7.78 2.81-2.81c.8-.78.8-2.07 0-2.86zM5.41 20L4 18.59l7.72-7.72 1.47 1.35L5.41 20z\"/>\n",
       "  </svg>\n",
       "      </button>\n",
       "      \n",
       "  <style>\n",
       "    .colab-df-container {\n",
       "      display:flex;\n",
       "      flex-wrap:wrap;\n",
       "      gap: 12px;\n",
       "    }\n",
       "\n",
       "    .colab-df-convert {\n",
       "      background-color: #E8F0FE;\n",
       "      border: none;\n",
       "      border-radius: 50%;\n",
       "      cursor: pointer;\n",
       "      display: none;\n",
       "      fill: #1967D2;\n",
       "      height: 32px;\n",
       "      padding: 0 0 0 0;\n",
       "      width: 32px;\n",
       "    }\n",
       "\n",
       "    .colab-df-convert:hover {\n",
       "      background-color: #E2EBFA;\n",
       "      box-shadow: 0px 1px 2px rgba(60, 64, 67, 0.3), 0px 1px 3px 1px rgba(60, 64, 67, 0.15);\n",
       "      fill: #174EA6;\n",
       "    }\n",
       "\n",
       "    [theme=dark] .colab-df-convert {\n",
       "      background-color: #3B4455;\n",
       "      fill: #D2E3FC;\n",
       "    }\n",
       "\n",
       "    [theme=dark] .colab-df-convert:hover {\n",
       "      background-color: #434B5C;\n",
       "      box-shadow: 0px 1px 3px 1px rgba(0, 0, 0, 0.15);\n",
       "      filter: drop-shadow(0px 1px 2px rgba(0, 0, 0, 0.3));\n",
       "      fill: #FFFFFF;\n",
       "    }\n",
       "  </style>\n",
       "\n",
       "      <script>\n",
       "        const buttonEl =\n",
       "          document.querySelector('#df-f58cd746-01bb-4e1a-b062-9d9171bd79cc button.colab-df-convert');\n",
       "        buttonEl.style.display =\n",
       "          google.colab.kernel.accessAllowed ? 'block' : 'none';\n",
       "\n",
       "        async function convertToInteractive(key) {\n",
       "          const element = document.querySelector('#df-f58cd746-01bb-4e1a-b062-9d9171bd79cc');\n",
       "          const dataTable =\n",
       "            await google.colab.kernel.invokeFunction('convertToInteractive',\n",
       "                                                     [key], {});\n",
       "          if (!dataTable) return;\n",
       "\n",
       "          const docLinkHtml = 'Like what you see? Visit the ' +\n",
       "            '<a target=\"_blank\" href=https://colab.research.google.com/notebooks/data_table.ipynb>data table notebook</a>'\n",
       "            + ' to learn more about interactive tables.';\n",
       "          element.innerHTML = '';\n",
       "          dataTable['output_type'] = 'display_data';\n",
       "          await google.colab.output.renderOutput(dataTable, element);\n",
       "          const docLink = document.createElement('div');\n",
       "          docLink.innerHTML = docLinkHtml;\n",
       "          element.appendChild(docLink);\n",
       "        }\n",
       "      </script>\n",
       "    </div>\n",
       "  </div>\n",
       "  "
      ],
      "text/plain": [
       "          a         b         c         d\n",
       "a  1.000000  0.824820 -0.261096  0.025927\n",
       "b  0.824820  1.000000 -0.216757 -0.008246\n",
       "c -0.261096 -0.216757  1.000000 -0.058478\n",
       "d  0.025927 -0.008246 -0.058478  1.000000"
      ]
     },
     "execution_count": 44,
     "metadata": {},
     "output_type": "execute_result"
    }
   ],
   "source": [
    "import pandas as pd\n",
    "\n",
    "df = pd.DataFrame({'a': np.random.randint(0,50,1000)})\n",
    "df['b'] = df['a'] + np.random.normal(0,10,1000)\n",
    "df['c'] = 100-df['a'] + np.random.normal(0,50,1000)\n",
    "df['d'] = np.random.randint(0,50,1000)\n",
    "\n",
    "df.corr()"
   ]
  },
  {
   "cell_type": "code",
   "execution_count": 47,
   "metadata": {
    "colab": {
     "base_uri": "https://localhost:8080/",
     "height": 236
    },
    "id": "gFUrSlS316hG",
    "outputId": "7dbdc377-607f-4863-c2be-0619dc15ceda"
   },
   "outputs": [
    {
     "data": {
      "image/png": "[encoded data removed]",
      "text/plain": [
       "<Figure size 216x216 with 16 Axes>"
      ]
     },
     "metadata": {},
     "output_type": "display_data"
    }
   ],
   "source": [
    "pd.plotting.scatter_matrix(df,figsize=(3,3))\n",
    "plt.show()"
   ]
  },
  {
   "cell_type": "code",
   "execution_count": 50,
   "metadata": {
    "colab": {
     "base_uri": "https://localhost:8080/",
     "height": 258
    },
    "id": "qOMUykE73r46",
    "outputId": "92b9e946-deee-4e09-91ab-5ca3df78fddd"
   },
   "outputs": [
    {
     "data": {
      "image/png": "[encoded data removed]",
      "text/plain": [
       "<Figure size 288x288 with 2 Axes>"
      ]
     },
     "metadata": {},
     "output_type": "display_data"
    }
   ],
   "source": [
    "plt.matshow(df.corr())\n",
    "plt.xticks(range(len(df.columns)), df.columns)\n",
    "plt.yticks(range(len(df.columns)), df.columns)\n",
    "plt.colorbar()\n",
    "plt.show()"
   ]
  }
 ],
 "metadata": {
  "colab": {
   "authorship_tag": "ABX9TyMnAsAbeKRTquvCFb8YfLdC",
   "include_colab_link": true,
   "provenance": []
  },
  "kernelspec": {
   "display_name": "Python 3 (ipykernel)",
   "language": "python",
   "name": "python3"
  },
  "language_info": {
   "codemirror_mode": {
    "name": "ipython",
    "version": 3
   },
   "file_extension": ".py",
   "mimetype": "text/x-python",
   "name": "python",
   "nbconvert_exporter": "python",
   "pygments_lexer": "ipython3",
   "version": "3.9.12"
  }
 },
 "nbformat": 4,
 "nbformat_minor": 1
}
